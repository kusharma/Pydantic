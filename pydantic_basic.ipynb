{
 "cells": [
  {
   "cell_type": "code",
   "execution_count": 8,
   "metadata": {},
   "outputs": [
    {
     "name": "stdout",
     "output_type": "stream",
     "text": [
      "Expected name to be a string, got int\n"
     ]
    }
   ],
   "source": [
    "class User:\n",
    "    def __init__(self,id,name='Kunal Sharma'):\n",
    "        if not isinstance(id,int):\n",
    "            raise TypeError(f'Expected id to be an integer, got {type(id).__name__}')\n",
    "\n",
    "        if not isinstance(name,str):\n",
    "            raise TypeError(f'Expected name to be a string, got {type(name).__name__}')\n",
    "\n",
    "        self.id = id\n",
    "        self.name = name\n",
    "\n",
    "try:\n",
    "    user = User(id=1,name=2)\n",
    "except TypeError as e:\n",
    "    print(e)\n",
    "\n"
   ]
  },
  {
   "cell_type": "code",
   "execution_count": 10,
   "metadata": {},
   "outputs": [
    {
     "name": "stdout",
     "output_type": "stream",
     "text": [
      "id=1 name='Kunal Sharma'\n"
     ]
    }
   ],
   "source": [
    "from pydantic import BaseModel\n",
    "\n",
    "class User(BaseModel):\n",
    "    id: int\n",
    "    name: str='Dr Strange Variant'\n",
    "\n",
    "user = User(id=1,name='Kunal Sharma')\n",
    "print(user)\n",
    "\n"
   ]
  },
  {
   "cell_type": "code",
   "execution_count": 11,
   "metadata": {},
   "outputs": [
    {
     "name": "stdout",
     "output_type": "stream",
     "text": [
      "{'id', 'name'}\n"
     ]
    }
   ],
   "source": [
    "print(user.model_fields_set)"
   ]
  },
  {
   "cell_type": "code",
   "execution_count": 12,
   "metadata": {},
   "outputs": [
    {
     "name": "stdout",
     "output_type": "stream",
     "text": [
      "{'id': 1, 'name': 'Kunal Sharma'}\n",
      "{\"id\":1,\"name\":\"Kunal Sharma\"}\n",
      "{'properties': {'id': {'title': 'Id', 'type': 'integer'}, 'name': {'default': 'Dr Strange Variant', 'title': 'Name', 'type': 'string'}}, 'required': ['id'], 'title': 'User', 'type': 'object'}\n"
     ]
    }
   ],
   "source": [
    "print(user.model_dump())\n",
    "print(user.model_dump_json())\n",
    "print(user.model_json_schema())"
   ]
  },
  {
   "cell_type": "code",
   "execution_count": 16,
   "metadata": {},
   "outputs": [
    {
     "name": "stdout",
     "output_type": "stream",
     "text": [
      "name='The Leaky Cauldron' location='Diagon Alley' menu=[Food(name='Pumpkin Juice', price=3.99, ingredients=['pumpkin', 'juice']), Food(name='Wizarding World Coffee', price=4.99, ingredients=['coffee', 'magic']), Food(name='Butterbeer', price=5.99, ingredients=['sugar', 'butter', 'beer'])]\n"
     ]
    }
   ],
   "source": [
    "from typing import List, Optional\n",
    "from pydantic import BaseModel\n",
    "\n",
    "class Food(BaseModel):\n",
    "    name: str\n",
    "    price: float\n",
    "    ingredients: Optional[List[str]]=NotImplemented\n",
    "\n",
    "class Restaurant(BaseModel):\n",
    "    name: str\n",
    "    location:str\n",
    "    menu:List[Food]\n",
    "\n",
    "restaurant_instance_1 = Restaurant(\n",
    "    name=\"Three Broomsticks\",\n",
    "    location=\"Hogwarts\",\n",
    "    menu=[Food(name=\"Butterbeer\",price=5.99,ingredients=[\"sugar\",\"butter\",\"beer\"])]\n",
    "\n",
    ")\n",
    "\n",
    "restaurant_instance_2 = Restaurant(\n",
    "    name=\"The Leaky Cauldron\",\n",
    "    location=\"Diagon Alley\",\n",
    "    menu=[\n",
    "        {\"name\": \"Pumpkin Juice\", \"price\" : 3.99, \"ingredients\": [\"pumpkin\",\"juice\"]},\n",
    "        {\"name\": \"Wizarding World Coffee\", \"price\" : 4.99, \"ingredients\": [\"coffee\",\"magic\"]},\n",
    "        {\"name\": \"Butterbeer\", \"price\" : 5.99, \"ingredients\": [\"sugar\",\"butter\",\"beer\"]},\n",
    "    ]\n",
    ")\n",
    "\n",
    "#print(restaurant_instance_1)\n",
    "print(restaurant_instance_2)"
   ]
  },
  {
   "cell_type": "code",
   "execution_count": 20,
   "metadata": {},
   "outputs": [
    {
     "name": "stdout",
     "output_type": "stream",
     "text": [
      "Requirement already satisfied: pydantic[email] in /Users/kunalsharma/opt/anaconda3/envs/langchain-academy/lib/python3.10/site-packages (2.9.1)\n",
      "Requirement already satisfied: annotated-types>=0.6.0 in /Users/kunalsharma/opt/anaconda3/envs/langchain-academy/lib/python3.10/site-packages (from pydantic[email]) (0.7.0)\n",
      "Requirement already satisfied: pydantic-core==2.23.3 in /Users/kunalsharma/opt/anaconda3/envs/langchain-academy/lib/python3.10/site-packages (from pydantic[email]) (2.23.3)\n",
      "Requirement already satisfied: typing-extensions>=4.6.1 in /Users/kunalsharma/opt/anaconda3/envs/langchain-academy/lib/python3.10/site-packages (from pydantic[email]) (4.12.2)\n",
      "Collecting email-validator>=2.0.0 (from pydantic[email])\n",
      "  Using cached email_validator-2.2.0-py3-none-any.whl.metadata (25 kB)\n",
      "Collecting dnspython>=2.0.0 (from email-validator>=2.0.0->pydantic[email])\n",
      "  Using cached dnspython-2.7.0-py3-none-any.whl.metadata (5.8 kB)\n",
      "Requirement already satisfied: idna>=2.0.0 in /Users/kunalsharma/opt/anaconda3/envs/langchain-academy/lib/python3.10/site-packages (from email-validator>=2.0.0->pydantic[email]) (3.8)\n",
      "Using cached email_validator-2.2.0-py3-none-any.whl (33 kB)\n",
      "Using cached dnspython-2.7.0-py3-none-any.whl (313 kB)\n",
      "Installing collected packages: dnspython, email-validator\n",
      "Successfully installed dnspython-2.7.0 email-validator-2.2.0\n"
     ]
    }
   ],
   "source": [
    "!pip install \"pydantic[email]\"\n"
   ]
  },
  {
   "cell_type": "code",
   "execution_count": 21,
   "metadata": {},
   "outputs": [
    {
     "name": "stdout",
     "output_type": "stream",
     "text": [
      "name='The Leaky Cauldron' owner=Owner(name='Albus Dumbledore', email='albus@hogwarts.edu') employees=[Employee(name='Minerva McGonagall', email='minerva@hogwarts.edu', age=30), Employee(name='Severus Snape', email='severus@hogwarts.edu', age=35)] number_of_seats=100 delivery_available=True website=Url('https://hogwarts.edu/')\n"
     ]
    }
   ],
   "source": [
    "from pydantic import EmailStr, PositiveInt, conlist, Field, HttpUrl\n",
    "\n",
    "class Address(BaseModel):\n",
    "    street:str\n",
    "    city: str\n",
    "    state: str\n",
    "    zip_code:int\n",
    "\n",
    "class Employee(BaseModel):\n",
    "    name: str\n",
    "    email: EmailStr\n",
    "    age: PositiveInt\n",
    "\n",
    "class Owner(BaseModel):\n",
    "    name: str\n",
    "    email: EmailStr\n",
    "\n",
    "class Restaurant(BaseModel):\n",
    "    name: str=Field(..., pattern=r\"^[a-zA-Z0-9- ]+\")\n",
    "    owner: Owner\n",
    "    employees: conlist(Employee, min_length=2)\n",
    "    number_of_seats: PositiveInt\n",
    "    delivery_available: bool=False\n",
    "    website: HttpUrl\n",
    "    \n",
    "\n",
    "restaurant_instance_3 = Restaurant(\n",
    "    name=\"The Leaky Cauldron\",\n",
    "    owner= {\"name\": \"Albus Dumbledore\", \"email\": \"albus@hogwarts.edu\"},\n",
    "    employees=[\n",
    "        {\"name\": \"Minerva McGonagall\", \"email\": \"minerva@hogwarts.edu\", \"age\": 30},\n",
    "        {\"name\": \"Severus Snape\", \"email\": \"severus@hogwarts.edu\", \"age\": 35},\n",
    "    ],\n",
    "    number_of_seats=100,\n",
    "    delivery_available=True,\n",
    "    website=\"https://hogwarts.edu\"\n",
    ")\n",
    "\n",
    "print(restaurant_instance_3)\n",
    "\n"
   ]
  },
  {
   "cell_type": "code",
   "execution_count": 25,
   "metadata": {},
   "outputs": [
    {
     "name": "stdout",
     "output_type": "stream",
     "text": [
      "1 validation error for Wizard\n",
      "age\n",
      "  Value error, Age must be positive [type=value_error, input_value=-662, input_type=int]\n",
      "    For further information visit https://errors.pydantic.dev/2.9/v/value_error\n"
     ]
    }
   ],
   "source": [
    "from pydantic import field_validator\n",
    "\n",
    "class Wizard(BaseModel):\n",
    "    name: str\n",
    "    age: int\n",
    "\n",
    "    @field_validator('age')\n",
    "    def validate_age(cls,v):\n",
    "        if v < 0:\n",
    "            raise ValueError('Age must be positive')\n",
    "        return v\n",
    "\n",
    "    @field_validator('name')\n",
    "    @classmethod\n",
    "    def name_must_contain_space(cls,v):\n",
    "        if ' ' not in v:\n",
    "            raise ValueError('Wizard name must contain a space')\n",
    "        return v\n",
    "\n",
    "try:\n",
    "    wizard_instance = Wizard(name='Nicolas Flamel',age=-662)\n",
    "except ValueError as e:\n",
    "    print(e)\n",
    "\n"
   ]
  },
  {
   "cell_type": "code",
   "execution_count": 26,
   "metadata": {},
   "outputs": [
    {
     "name": "stdout",
     "output_type": "stream",
     "text": [
      "id='5d1ef6aafa1444a2964cf566bd06cffe'\n"
     ]
    }
   ],
   "source": [
    "from uuid import uuid4\n",
    "\n",
    "class WizardId(BaseModel):\n",
    "    id: int=Field(default_factory=lambda: uuid4().hex)\n",
    "\n",
    "wizard_id_instance = WizardId()\n",
    "print(wizard_id_instance)"
   ]
  },
  {
   "cell_type": "code",
   "execution_count": 29,
   "metadata": {},
   "outputs": [
    {
     "name": "stdout",
     "output_type": "stream",
     "text": [
      "username='Harry Potter' email='harry@hogwarts.edu' age=11 height=1.75 house='Gryffindor' wand_wood='oak'\n"
     ]
    }
   ],
   "source": [
    "from typing import List\n",
    "from pydantic import BaseModel, Field, EmailStr\n",
    "from decimal import Decimal\n",
    "\n",
    "class WizardRegistration(BaseModel):\n",
    "    username: str =  Field(..., min_length=3, max_length = 30, pattern=r'^\\w+')\n",
    "    email: EmailStr = Field(...)\n",
    "    age: int = Field(..., gt=0, lt=120)\n",
    "    height: float= Field(..., gt=0.5, lt=2.0)\n",
    "    house: str = Field(..., pattern=r'^Gryffindor|Hufflepuff|Ravenclaw|Slytherin$')\n",
    "    wand_wood: str = Field(..., pattern=r'^oak|ash|vine|holly|phoenix|phoenix|phoenix|phoenix$')\n",
    "\n",
    "wizard_registration_instance = WizardRegistration(\n",
    "    username='Harry Potter',\n",
    "    email='harry@hogwarts.edu',\n",
    "    age=11,\n",
    "    height=1.75,\n",
    "    house='Gryffindor',\n",
    "    wand_wood='oak'\n",
    ")\n",
    "\n",
    "print(wizard_registration_instance)"
   ]
  },
  {
   "cell_type": "code",
   "execution_count": 30,
   "metadata": {},
   "outputs": [],
   "source": [
    "!pip install -qU 'pydantic-settings'"
   ]
  },
  {
   "cell_type": "code",
   "execution_count": 35,
   "metadata": {},
   "outputs": [
    {
     "name": "stdout",
     "output_type": "stream",
     "text": [
      "{'auth_key': 'alohomora_vault_713', 'api_key': 'goblin_approved_9_3_4'}\n"
     ]
    }
   ],
   "source": [
    "from pydantic_settings import BaseSettings, SettingsConfigDict\n",
    "from pydantic import Field\n",
    "\n",
    "# validation_alias: Used only during validation/parsing\n",
    "    # Useful when the input name differs from the model field name\n",
    "# alias: Used during serialization/deserialization\n",
    "    # Useful when the output name differs from the model field name\n",
    "class Settings(BaseSettings):\n",
    "    auth_key: str = Field(validation_alias='my_auth_key')\n",
    "    api_key: str = Field(alias='my_api_key')\n",
    "    \n",
    "    model_config = SettingsConfigDict(\n",
    "    env_file='.env',                # Path to environment file\n",
    "    env_file_encoding='utf-8',      # Encoding of the file\n",
    "    case_sensitive=True,            # Whether env vars are case sensitive\n",
    "    extra='ignore',                 # How to handle extra fields\n",
    ")\n",
    "\n",
    "settings = Settings()\n",
    "print(settings.model_dump())"
   ]
  },
  {
   "cell_type": "code",
   "execution_count": null,
   "metadata": {},
   "outputs": [],
   "source": []
  }
 ],
 "metadata": {
  "kernelspec": {
   "display_name": "Python 3",
   "language": "python",
   "name": "python3"
  },
  "language_info": {
   "codemirror_mode": {
    "name": "ipython",
    "version": 3
   },
   "file_extension": ".py",
   "mimetype": "text/x-python",
   "name": "python",
   "nbconvert_exporter": "python",
   "pygments_lexer": "ipython3",
   "version": "3.10.14"
  }
 },
 "nbformat": 4,
 "nbformat_minor": 2
}
